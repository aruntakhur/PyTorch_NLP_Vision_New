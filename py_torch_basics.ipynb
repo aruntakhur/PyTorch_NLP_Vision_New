{
  "nbformat": 4,
  "nbformat_minor": 0,
  "metadata": {
    "colab": {
      "name": "py_torch_basics.ipynb",
      "provenance": [],
      "authorship_tag": "ABX9TyP97v3Y+FbksCmsT8wYqs81",
      "include_colab_link": true
    },
    "kernelspec": {
      "name": "python3",
      "display_name": "Python 3"
    },
    "language_info": {
      "name": "python"
    }
  },
  "cells": [
    {
      "cell_type": "markdown",
      "metadata": {
        "id": "view-in-github",
        "colab_type": "text"
      },
      "source": [
        "<a href=\"https://colab.research.google.com/github/aruntakhur/PyTorch_NLP_Vision_New/blob/main/py_torch_basics.ipynb\" target=\"_parent\"><img src=\"https://colab.research.google.com/assets/colab-badge.svg\" alt=\"Open In Colab\"/></a>"
      ]
    },
    {
      "cell_type": "code",
      "execution_count": 1,
      "metadata": {
        "colab": {
          "base_uri": "https://localhost:8080/"
        },
        "id": "xweZ93J1f5f7",
        "outputId": "0d885e94-3601-4dba-dc05-56b89e2ca4f9"
      },
      "outputs": [
        {
          "output_type": "execute_result",
          "data": {
            "text/plain": [
              "<torch._C.Generator at 0x7f2e9c50aad0>"
            ]
          },
          "metadata": {},
          "execution_count": 1
        }
      ],
      "source": [
        "import torch\n",
        "from torch.nn import Linear\n",
        "torch.manual_seed(1)"
      ]
    },
    {
      "cell_type": "code",
      "source": [
        "model = Linear(in_features = 2, out_features= 1)\n",
        "X = torch.tensor([[1.0, 3.0]])\n",
        "yhat = model(X)\n",
        "#list(model.parameters())\n",
        "#model.state_dict()"
      ],
      "metadata": {
        "id": "zIZS9P6JgMWm"
      },
      "execution_count": 2,
      "outputs": []
    },
    {
      "cell_type": "markdown",
      "source": [
        "Custom Mudules"
      ],
      "metadata": {
        "id": "c-7CnTAQkzjw"
      }
    },
    {
      "cell_type": "code",
      "source": [
        "import torch.nn as nn\n",
        "class LR(nn.Module):\n",
        "  def __init__(self, input_size, output_size):\n",
        "    super(LR,self).__init__()\n",
        "    self.linear = nn.Linear(input_size, output_size)\n",
        "  \n",
        "  def forward(self, x):\n",
        "    out = self.linear(x)\n",
        "    return out"
      ],
      "metadata": {
        "id": "HYRh681MnifG"
      },
      "execution_count": 3,
      "outputs": []
    },
    {
      "cell_type": "code",
      "source": [
        "from torch.nn import Linear\n",
        "torch.manual_seed(1)\n",
        "\n",
        "model = LR(2,1)\n",
        "x = torch.tensor([[1.0, 3.0]])\n",
        "yhat = model(x)"
      ],
      "metadata": {
        "id": "sKh7U7deqPeZ"
      },
      "execution_count": 4,
      "outputs": []
    },
    {
      "cell_type": "markdown",
      "source": [
        "Linear Regression Training"
      ],
      "metadata": {
        "id": "qKX2XKxSreQK"
      }
    },
    {
      "cell_type": "code",
      "source": [
        "from torch.utils.data import Dataset, DataLoader\n",
        "class Data2D(Dataset):\n",
        "  def __init__(self):\n",
        "    self.x = torch.zeros(20,2)\n",
        "    self.x[:,0] = torch.arange(-1,1,0.1)\n",
        "    self.x[:,1] = torch.arange(-1,1,0.1)\n",
        "    self.w = torch.tensor([[1.0],[1.0]])\n",
        "    self.b = 1\n",
        "    self.f = torch.mm(self.x,self.w)+self.b\n",
        "    self.y = self.f + 0.1*torch.randn((self.x.shape[0],1))\n",
        "    self.len = self.x.shape[0]\n",
        "\n",
        "  def __getitem__(self,index):\n",
        "    return self.x[index],self.y[index]\n",
        "\n",
        "  def __len__(self):\n",
        "    return self.len\n"
      ],
      "metadata": {
        "id": "qPx2b26nqsu4"
      },
      "execution_count": 5,
      "outputs": []
    },
    {
      "cell_type": "code",
      "source": [
        "from torch import optim\n",
        "data_set = Data2D()\n",
        "criterion = nn.MSELoss()\n",
        "trainloader = DataLoader(dataset = data_set, batch_size= 2)\n",
        "model = LR(input_size= 2, output_size= 1)\n",
        "optimizer = optim.SGD(model.parameters(), lr = 0.1)"
      ],
      "metadata": {
        "id": "eu1ZYIeiyzMJ"
      },
      "execution_count": 6,
      "outputs": []
    },
    {
      "cell_type": "code",
      "source": [
        "for epoch in range(200):\n",
        "  for x,y in trainloader:\n",
        "    yhat = model(x)\n",
        "    loss = criterion(yhat, y)\n",
        "    optimizer.zero_grad()\n",
        "    loss.backward()\n",
        "    optimizer.step()\n"
      ],
      "metadata": {
        "id": "CckjWNM9-7Xw"
      },
      "execution_count": 7,
      "outputs": []
    },
    {
      "cell_type": "code",
      "source": [
        "model.state_dict()"
      ],
      "metadata": {
        "colab": {
          "base_uri": "https://localhost:8080/"
        },
        "id": "KmmRmug4_fPC",
        "outputId": "29390686-9f7f-4433-f46c-4870a1797468"
      },
      "execution_count": 8,
      "outputs": [
        {
          "output_type": "execute_result",
          "data": {
            "text/plain": [
              "OrderedDict([('linear.weight', tensor([[0.4891, 1.5115]])),\n",
              "             ('linear.bias', tensor([1.0040]))])"
            ]
          },
          "metadata": {},
          "execution_count": 8
        }
      ]
    },
    {
      "cell_type": "markdown",
      "source": [
        "Linear Regression Multiple Outputs"
      ],
      "metadata": {
        "id": "RWa_cye3AvUe"
      }
    },
    {
      "cell_type": "code",
      "source": [
        "model_1 = LR(2,2)\n",
        "x = torch.tensor([[1.0,2.0],[1.0,1.0],[1.0,3.0]])\n",
        "yhat = model_1(x)\n",
        "yhat"
      ],
      "metadata": {
        "colab": {
          "base_uri": "https://localhost:8080/"
        },
        "id": "Gx4WJ07gAy41",
        "outputId": "92816b76-f6f8-46d9-8285-400b7b367187"
      },
      "execution_count": 9,
      "outputs": [
        {
          "output_type": "execute_result",
          "data": {
            "text/plain": [
              "tensor([[-0.2648,  1.1441],\n",
              "        [-0.6713,  0.8095],\n",
              "        [ 0.1417,  1.4787]], grad_fn=<AddmmBackward0>)"
            ]
          },
          "metadata": {},
          "execution_count": 9
        }
      ]
    },
    {
      "cell_type": "markdown",
      "source": [
        "Logistic Regression"
      ],
      "metadata": {
        "id": "PAzUmBNQOIun"
      }
    },
    {
      "cell_type": "code",
      "source": [
        "model = nn.Sequential(nn.Linear(1,1),nn.Sigmoid())"
      ],
      "metadata": {
        "id": "CoC9oPZWOK8k"
      },
      "execution_count": 10,
      "outputs": []
    },
    {
      "cell_type": "code",
      "source": [
        "class logistic_regression(nn.Module):\n",
        "  def __init__(self, in_size, out=1):\n",
        "    super(logistic_regression, self).__init__()\n",
        "    self.linear = nn.Linear(in_size, out)\n",
        "\n",
        "  def forward(self, x):\n",
        "    return torch.sigmoid(self.linear(x))"
      ],
      "metadata": {
        "id": "jOThQlWxQ4Tr"
      },
      "execution_count": 11,
      "outputs": []
    },
    {
      "cell_type": "code",
      "source": [
        "model_l = logistic_regression(2)"
      ],
      "metadata": {
        "id": "KBJzJIcDgU8Y"
      },
      "execution_count": 12,
      "outputs": []
    },
    {
      "cell_type": "code",
      "source": [
        "dataset = Data2D()\n",
        "optimizer_l = optim.SGD(model_l.parameters(),lr = 0.1)\n",
        "criterion_l = nn.BCELoss()\n",
        "for epoch in range(300):\n",
        "  for x,y in trainloader:\n",
        "    yhat = model_l(x)\n",
        "    loss = criterion_l(yhat,y)\n",
        "    optimizer_l.zero_grad()\n",
        "    loss.backward()\n",
        "    optimizer_l.step()"
      ],
      "metadata": {
        "id": "O7n22OTErYFE"
      },
      "execution_count": 13,
      "outputs": []
    },
    {
      "cell_type": "code",
      "source": [
        "list(model_l.parameters())"
      ],
      "metadata": {
        "colab": {
          "base_uri": "https://localhost:8080/"
        },
        "id": "vNfpoFmms8g8",
        "outputId": "5e9928e1-37fb-4414-9414-8d59785639e2"
      },
      "execution_count": 14,
      "outputs": [
        {
          "output_type": "execute_result",
          "data": {
            "text/plain": [
              "[Parameter containing:\n",
              " tensor([[23.4806, 23.6307]], requires_grad=True), Parameter containing:\n",
              " tensor([8.7320], requires_grad=True)]"
            ]
          },
          "metadata": {},
          "execution_count": 14
        }
      ]
    },
    {
      "cell_type": "code",
      "source": [
        "class Softmax(nn.Module):\n",
        "  def __init__(self, input_size, output_size):\n",
        "    super(Softmax, self).__init__()\n",
        "    self.linear = nn.Linear(input_size,output_size)\n",
        "  \n",
        "  def forward(self,x):\n",
        "    x_o = self.linear(x)\n",
        "    return x_o\n"
      ],
      "metadata": {
        "id": "mrFpElHs4lBg"
      },
      "execution_count": 15,
      "outputs": []
    },
    {
      "cell_type": "code",
      "source": [
        "model_s = Softmax(2,3)\n",
        "z = model_s(x)"
      ],
      "metadata": {
        "id": "83V0yCAY5K-k"
      },
      "execution_count": 16,
      "outputs": []
    },
    {
      "cell_type": "code",
      "source": [
        "a,b = z.max(1)\n",
        "print(a, z.max(1),z) # 1 is axis"
      ],
      "metadata": {
        "colab": {
          "base_uri": "https://localhost:8080/"
        },
        "id": "GVyoBMCa5iTH",
        "outputId": "12626376-b12f-4711-c331-6082da5eeb22"
      },
      "execution_count": 23,
      "outputs": [
        {
          "output_type": "stream",
          "name": "stdout",
          "text": [
            "tensor([0.7188, 0.8178], grad_fn=<MaxBackward0>) torch.return_types.max(\n",
            "values=tensor([0.7188, 0.8178], grad_fn=<MaxBackward0>),\n",
            "indices=tensor([0, 0])) tensor([[ 0.7188, -0.9693, -0.0425],\n",
            "        [ 0.8178, -1.0024, -0.0369]], grad_fn=<AddmmBackward0>)\n"
          ]
        }
      ]
    },
    {
      "cell_type": "markdown",
      "source": [
        "SoftMax Pytorch"
      ],
      "metadata": {
        "id": "dZfYyruVqcdJ"
      }
    },
    {
      "cell_type": "code",
      "source": [
        "import torch\n",
        "import torch.nn as nn\n",
        "import torchvision.transforms as transforms\n",
        "import torchvision.datasets as dsets\n"
      ],
      "metadata": {
        "id": "Na5WKCU6qfy4"
      },
      "execution_count": 26,
      "outputs": []
    },
    {
      "cell_type": "code",
      "source": [
        "import matplotlib.pylab as plt\n",
        "def PlotParameters(model): \n",
        "    W = model.state_dict()['linear.weight']\n",
        "    w_min = W.min().item()\n",
        "    w_max = W.max().item()\n",
        "    fig, axes = plt.subplots(2, 5)\n",
        "    fig.subplots_adjust(hspace=0.01, wspace=0.1)\n",
        "    for i, ax in enumerate(axes.flat):\n",
        "        if i < 10:\n",
        "            \n",
        "            # Set the label for the sub-plot.\n",
        "            ax.set_xlabel(\"class: {0}\".format(i))\n",
        "\n",
        "            # Plot the image.\n",
        "            ax.imshow(W[i, :].view(28, 28), vmin=w_min, vmax=w_max, cmap='seismic')\n",
        "\n",
        "            ax.set_xticks([])\n",
        "            ax.set_yticks([])\n",
        "\n",
        "        # Ensure the plot is shown correctly with multiple plots\n",
        "        # in a single Notebook cell.\n",
        "    plt.show()"
      ],
      "metadata": {
        "id": "iLSjxggb2gU6"
      },
      "execution_count": 60,
      "outputs": []
    },
    {
      "cell_type": "code",
      "source": [
        "train_dataset = dsets.MNIST(root = './data', train = True, download = True, transform = transforms.ToTensor())\n",
        "validation_dataset = dsets.MNIST(root = './root', train = False, download = True, transform = transforms.ToTensor())"
      ],
      "metadata": {
        "id": "mq_2nYM3q1X9"
      },
      "execution_count": 30,
      "outputs": []
    },
    {
      "cell_type": "code",
      "source": [
        "train_loader = torch.utils.data.DataLoader(dataset = train_dataset, batch_size = 100)\n",
        "validation_loader = torch.utils.data.DataLoader(dataset = validation_dataset, batch_size = 5000)"
      ],
      "metadata": {
        "id": "Da4JPZ68ruxC"
      },
      "execution_count": 32,
      "outputs": []
    },
    {
      "cell_type": "code",
      "source": [
        "model_s = Softmax(28*28,10)"
      ],
      "metadata": {
        "id": "HzDbsaLuHlV-"
      },
      "execution_count": 38,
      "outputs": []
    },
    {
      "cell_type": "code",
      "source": [
        "model_s = Softmax(28*28,10)\n",
        "criterion_s = nn.CrossEntropyLoss()\n",
        "accuracy_list = []\n",
        "optimizer_s = optim.SGD(model_s.parameters(), lr = 0.1)\n",
        "for epoch in range(30):\n",
        "  for x,y in train_loader:\n",
        "    z = model_s(x.view(-1,28*28))\n",
        "    loss = criterion_s(z,y)\n",
        "    optimizer_s.zero_grad()\n",
        "    loss.backward()\n",
        "    optimizer_s.step()\n",
        "  correct = 0\n",
        "  for x_test,y_test in validation_loader:\n",
        "    z = model_s(x_test.view(-1,28*28))\n",
        "    _,yhat = torch.max(z.data,1)\n",
        "    correct = correct + (yhat == y_test).sum().item()\n",
        "  accuracy = correct/len(validation_dataset)\n",
        "  accuracy_list.append(accuracy)\n",
        "\n"
      ],
      "metadata": {
        "id": "y-sW_tIqvGKv"
      },
      "execution_count": 68,
      "outputs": []
    },
    {
      "cell_type": "code",
      "source": [
        "accuracy_list"
      ],
      "metadata": {
        "colab": {
          "base_uri": "https://localhost:8080/"
        },
        "id": "oiJy3KWO22FR",
        "outputId": "4a8e5152-59cb-4d83-e1e3-93db4ab359d6"
      },
      "execution_count": 66,
      "outputs": [
        {
          "output_type": "execute_result",
          "data": {
            "text/plain": [
              "[0.902, 0.91, 0.9136, 0.9163, 0.9171, 0.9179, 0.9191, 0.9196, 0.9197, 0.9208]"
            ]
          },
          "metadata": {},
          "execution_count": 66
        }
      ]
    },
    {
      "cell_type": "code",
      "source": [
        "PlotParameters(model_s)"
      ],
      "metadata": {
        "colab": {
          "base_uri": "https://localhost:8080/",
          "height": 216
        },
        "id": "eld5OSM0QRfh",
        "outputId": "9f995196-6fbd-40f6-8b5d-90ced8c4c09d"
      },
      "execution_count": 61,
      "outputs": [
        {
          "output_type": "display_data",
          "data": {
            "image/png": "[encoded data removed]",
            "text/plain": [
              "<Figure size 432x288 with 10 Axes>"
            ]
          },
          "metadata": {}
        }
      ]
    },
    {
      "cell_type": "code",
      "source": [
        ""
      ],
      "metadata": {
        "id": "eR96swuiRoa1"
      },
      "execution_count": null,
      "outputs": []
    }
  ]
}