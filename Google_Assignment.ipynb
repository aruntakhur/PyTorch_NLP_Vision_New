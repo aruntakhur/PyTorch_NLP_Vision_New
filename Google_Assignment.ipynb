{
  "nbformat": 4,
  "nbformat_minor": 0,
  "metadata": {
    "colab": {
      "name": "Google_Assignment.ipynb",
      "provenance": [],
      "authorship_tag": "ABX9TyMeZToxz/M2Nsq6ryw/ib4Y",
      "include_colab_link": true
    },
    "kernelspec": {
      "name": "python3",
      "display_name": "Python 3"
    },
    "language_info": {
      "name": "python"
    }
  },
  "cells": [
    {
      "cell_type": "markdown",
      "metadata": {
        "id": "view-in-github",
        "colab_type": "text"
      },
      "source": [
        "<a href=\"https://colab.research.google.com/github/aruntakhur/PyTorch_NLP_Vision_New/blob/main/Google_Assignment.ipynb\" target=\"_parent\"><img src=\"https://colab.research.google.com/assets/colab-badge.svg\" alt=\"Open In Colab\"/></a>"
      ]
    },
    {
      "cell_type": "code",
      "execution_count": 1,
      "metadata": {
        "colab": {
          "base_uri": "https://localhost:8080/"
        },
        "id": "iWhHrZ6otzLL",
        "outputId": "2dcaa9a1-dc51-4532-8d4e-7a14a466d212"
      },
      "outputs": [
        {
          "output_type": "stream",
          "name": "stdout",
          "text": [
            "Mounted at /content/drive\n"
          ]
        }
      ],
      "source": [
        "import pandas as pd\n",
        "import numpy as np\n",
        "import csv\n",
        "\n",
        "from google.colab import drive, files\n",
        "drive.mount('/content/drive', force_remount=True)"
      ]
    },
    {
      "cell_type": "code",
      "source": [
        "df = pd.read_csv(\"https://raw.githubusercontent.com/aruntakhur/PyTorch_NLP_Vision_New/main/HIV_15DEC21_06_23_27_68.csv\")\n",
        "df.head()"
      ],
      "metadata": {
        "colab": {
          "base_uri": "https://localhost:8080/",
          "height": 539
        },
        "id": "NohUUecxt5YO",
        "outputId": "5cc223a7-a234-4ae7-c2fd-3cac83194886"
      },
      "execution_count": 2,
      "outputs": [
        {
          "output_type": "execute_result",
          "data": {
            "text/html": [
              "<div>\n",
              "<style scoped>\n",
              "    .dataframe tbody tr th:only-of-type {\n",
              "        vertical-align: middle;\n",
              "    }\n",
              "\n",
              "    .dataframe tbody tr th {\n",
              "        vertical-align: top;\n",
              "    }\n",
              "\n",
              "    .dataframe thead th {\n",
              "        text-align: right;\n",
              "    }\n",
              "</style>\n",
              "<table border=\"1\" class=\"dataframe\">\n",
              "  <thead>\n",
              "    <tr style=\"text-align: right;\">\n",
              "      <th></th>\n",
              "      <th>Sequence</th>\n",
              "      <th>Country Code</th>\n",
              "      <th>Geographic Area</th>\n",
              "      <th>Reference Date</th>\n",
              "      <th>Population Subgroup</th>\n",
              "      <th>Subpop Code</th>\n",
              "      <th>Sex</th>\n",
              "      <th>Age</th>\n",
              "      <th>Source ID</th>\n",
              "      <th>Comments</th>\n",
              "      <th>Data Type</th>\n",
              "      <th>Country</th>\n",
              "      <th>Site Name</th>\n",
              "      <th>Author</th>\n",
              "      <th>Year</th>\n",
              "      <th>Title</th>\n",
              "      <th>Publication Information</th>\n",
              "      <th>Virus Type</th>\n",
              "      <th>NO_CASES</th>\n",
              "      <th>NO_DEATHS</th>\n",
              "      <th>PREV_RATE</th>\n",
              "      <th>INC_RATE</th>\n",
              "      <th>Specimen Type</th>\n",
              "      <th>Test Type</th>\n",
              "      <th>SAMPSIZE</th>\n",
              "    </tr>\n",
              "  </thead>\n",
              "  <tbody>\n",
              "    <tr>\n",
              "      <th>0</th>\n",
              "      <td>41</td>\n",
              "      <td>ABW</td>\n",
              "      <td>National</td>\n",
              "      <td>2002</td>\n",
              "      <td>Cumulative AIDS cases</td>\n",
              "      <td>O</td>\n",
              "      <td>B</td>\n",
              "      <td>ALL</td>\n",
              "      <td>W0197</td>\n",
              "      <td>Reported as of 21 Oct. 02.</td>\n",
              "      <td>R</td>\n",
              "      <td>Aruba</td>\n",
              "      <td>National</td>\n",
              "      <td>World Health Organization</td>\n",
              "      <td>2002</td>\n",
              "      <td>Global Situation of the AIDS Pandemic, End 2002</td>\n",
              "      <td>Weekly Epidemiological Record, December 6, vol...</td>\n",
              "      <td>AIDS</td>\n",
              "      <td>37</td>\n",
              "      <td>0</td>\n",
              "      <td>-1.0</td>\n",
              "      <td>NaN</td>\n",
              "      <td>NaN</td>\n",
              "      <td>NaN</td>\n",
              "      <td>-1</td>\n",
              "    </tr>\n",
              "    <tr>\n",
              "      <th>1</th>\n",
              "      <td>21</td>\n",
              "      <td>ABW</td>\n",
              "      <td>National</td>\n",
              "      <td>1997</td>\n",
              "      <td>Cumulative AIDS cases</td>\n",
              "      <td>O</td>\n",
              "      <td>B</td>\n",
              "      <td>ALL</td>\n",
              "      <td>W0144</td>\n",
              "      <td>Reported as of 15 Apr. 97.</td>\n",
              "      <td>R</td>\n",
              "      <td>Aruba</td>\n",
              "      <td>National</td>\n",
              "      <td>World Health Organization</td>\n",
              "      <td>1999</td>\n",
              "      <td>UNAIDS/WHO Global AIDS Statistics</td>\n",
              "      <td>AIDS Care, vol. 11, no. 2, pp. 254-264.</td>\n",
              "      <td>AIDS</td>\n",
              "      <td>24</td>\n",
              "      <td>0</td>\n",
              "      <td>-1.0</td>\n",
              "      <td>NaN</td>\n",
              "      <td>NaN</td>\n",
              "      <td>NaN</td>\n",
              "      <td>-1</td>\n",
              "    </tr>\n",
              "    <tr>\n",
              "      <th>2</th>\n",
              "      <td>24</td>\n",
              "      <td>ABW</td>\n",
              "      <td>National</td>\n",
              "      <td>1996</td>\n",
              "      <td>Cumulative AIDS cases &amp; deaths</td>\n",
              "      <td>O</td>\n",
              "      <td>B</td>\n",
              "      <td>ALL</td>\n",
              "      <td>P0232</td>\n",
              "      <td>Reported as of Apr. 96.</td>\n",
              "      <td>R</td>\n",
              "      <td>Aruba</td>\n",
              "      <td>National</td>\n",
              "      <td>Pan American Health Organization</td>\n",
              "      <td>2000</td>\n",
              "      <td>Update on HIV/AIDS Surveillance in the Americas</td>\n",
              "      <td>Epidemiological Bulletin/PAHO, vol. 21, no. 3,...</td>\n",
              "      <td>AIDS</td>\n",
              "      <td>37</td>\n",
              "      <td>17</td>\n",
              "      <td>-1.0</td>\n",
              "      <td>NaN</td>\n",
              "      <td>NaN</td>\n",
              "      <td>NaN</td>\n",
              "      <td>-1</td>\n",
              "    </tr>\n",
              "    <tr>\n",
              "      <th>3</th>\n",
              "      <td>90</td>\n",
              "      <td>ABW</td>\n",
              "      <td>National</td>\n",
              "      <td>1996</td>\n",
              "      <td>Cumulative AIDS cases</td>\n",
              "      <td>O</td>\n",
              "      <td>B</td>\n",
              "      <td>ALL</td>\n",
              "      <td>W0114</td>\n",
              "      <td>Reported as of 31 Mar. 96.</td>\n",
              "      <td>R</td>\n",
              "      <td>Aruba</td>\n",
              "      <td>National</td>\n",
              "      <td>World Health Organization</td>\n",
              "      <td>1996</td>\n",
              "      <td>World Health Organization Global AIDS Statistics</td>\n",
              "      <td>AIDS, vol. 8, no. 5, pp. 619-623.</td>\n",
              "      <td>AIDS</td>\n",
              "      <td>22</td>\n",
              "      <td>0</td>\n",
              "      <td>-1.0</td>\n",
              "      <td>NaN</td>\n",
              "      <td>NaN</td>\n",
              "      <td>NaN</td>\n",
              "      <td>-1</td>\n",
              "    </tr>\n",
              "    <tr>\n",
              "      <th>4</th>\n",
              "      <td>23</td>\n",
              "      <td>ABW</td>\n",
              "      <td>National</td>\n",
              "      <td>1995</td>\n",
              "      <td>Cumulative AIDS cases &amp; deaths</td>\n",
              "      <td>O</td>\n",
              "      <td>B</td>\n",
              "      <td>ALL</td>\n",
              "      <td>P0163</td>\n",
              "      <td>Reported as of 10 Mar. 96.</td>\n",
              "      <td>R</td>\n",
              "      <td>Aruba</td>\n",
              "      <td>National</td>\n",
              "      <td>Pan American Health Organization</td>\n",
              "      <td>1996</td>\n",
              "      <td>Number of Reported Cases of AIDS by Year, and ...</td>\n",
              "      <td>Pan American Health Organization, pp. 1-3.</td>\n",
              "      <td>AIDS</td>\n",
              "      <td>20</td>\n",
              "      <td>16</td>\n",
              "      <td>-1.0</td>\n",
              "      <td>NaN</td>\n",
              "      <td>NaN</td>\n",
              "      <td>NaN</td>\n",
              "      <td>-1</td>\n",
              "    </tr>\n",
              "  </tbody>\n",
              "</table>\n",
              "</div>"
            ],
            "text/plain": [
              "   Sequence Country Code Geographic Area  ... Specimen Type Test Type SAMPSIZE\n",
              "0        41          ABW        National  ...           NaN       NaN       -1\n",
              "1        21          ABW        National  ...           NaN       NaN       -1\n",
              "2        24          ABW        National  ...           NaN       NaN       -1\n",
              "3        90          ABW        National  ...           NaN       NaN       -1\n",
              "4        23          ABW        National  ...           NaN       NaN       -1\n",
              "\n",
              "[5 rows x 25 columns]"
            ]
          },
          "metadata": {},
          "execution_count": 2
        }
      ]
    },
    {
      "cell_type": "code",
      "source": [
        "df.columns"
      ],
      "metadata": {
        "colab": {
          "base_uri": "https://localhost:8080/"
        },
        "id": "AiokgTSJ3ryD",
        "outputId": "f45ff996-ce75-4212-b30e-b69cd3cc173f"
      },
      "execution_count": 3,
      "outputs": [
        {
          "output_type": "execute_result",
          "data": {
            "text/plain": [
              "Index(['Sequence', 'Country Code', 'Geographic Area', 'Reference Date',\n",
              "       'Population Subgroup', 'Subpop Code', 'Sex', 'Age', 'Source ID',\n",
              "       'Comments', 'Data Type', 'Country', 'Site Name', 'Author', 'Year',\n",
              "       'Title', 'Publication Information', 'Virus Type', 'NO_CASES',\n",
              "       'NO_DEATHS', 'PREV_RATE', 'INC_RATE', 'Specimen Type', 'Test Type',\n",
              "       'SAMPSIZE'],\n",
              "      dtype='object')"
            ]
          },
          "metadata": {},
          "execution_count": 3
        }
      ]
    },
    {
      "cell_type": "code",
      "source": [
        "df.columns = [c.replace(' ', '_') for c in df.columns]"
      ],
      "metadata": {
        "id": "66bfB9lymGsZ"
      },
      "execution_count": 6,
      "outputs": []
    },
    {
      "cell_type": "code",
      "source": [
        "df.columns"
      ],
      "metadata": {
        "colab": {
          "base_uri": "https://localhost:8080/"
        },
        "id": "9R3e8yxjmMdt",
        "outputId": "3c3c7840-46aa-42bf-f30c-5eebb6e99ad0"
      },
      "execution_count": 7,
      "outputs": [
        {
          "output_type": "execute_result",
          "data": {
            "text/plain": [
              "Index(['Sequence', 'Country_Code', 'Geographic_Area', 'Reference_Date',\n",
              "       'Population_Subgroup', 'Subpop_Code', 'Sex', 'Age', 'Source_ID',\n",
              "       'Comments', 'Data_Type', 'Country', 'Site_Name', 'Author', 'Year',\n",
              "       'Title', 'Publication_Information', 'Virus_Type', 'NO_CASES',\n",
              "       'NO_DEATHS', 'PREV_RATE', 'INC_RATE', 'Specimen_Type', 'Test_Type',\n",
              "       'SAMPSIZE'],\n",
              "      dtype='object')"
            ]
          },
          "metadata": {},
          "execution_count": 7
        }
      ]
    },
    {
      "cell_type": "code",
      "source": [
        "print(df['Subpop_Code'].unique())\n",
        "print(df['Population_Subgroup'].unique())"
      ],
      "metadata": {
        "colab": {
          "base_uri": "https://localhost:8080/"
        },
        "id": "lbpjbq4G1cRW",
        "outputId": "27a18df4-78fa-4ad6-e52d-43236a6a5970"
      },
      "execution_count": 60,
      "outputs": [
        {
          "output_type": "stream",
          "name": "stdout",
          "text": [
            "['O' 'C' 'T' 'H' 'I' 'B' 'J' 'N' 'L' 'P' 'S']\n",
            "['Cumulative AIDS cases' 'Cumulative AIDS cases & deaths' 'AIDS cases'\n",
            " 'AIDS cases & deaths' 'Cumulative pediatric AIDS cases' 'AIDS deaths'\n",
            " 'Cumulative adult AIDS cases' 'Cumulative AIDS deaths' 'Adult AIDS cases'\n",
            " 'Pediatric AIDS cases' 'Cumulative AIDS cases - transfusion'\n",
            " 'Cumulative AIDS cases - perinatal' 'Cumulative AIDS cases - bisexual'\n",
            " 'Cumulative AIDS cases - others' 'Cumulative AIDS cases - heterosexual'\n",
            " 'AIDS cases - perinatal' 'AIDS cases - bisexual'\n",
            " 'AIDS cases - heterosexual' 'AIDS cases - transfusion'\n",
            " 'AIDS cases - hemophiliac' 'AIDS cases - IVDU'\n",
            " 'Cumulative AIDS cases - IVDU' 'Cumulative AIDS cases - homosexual'\n",
            " 'AIDS cases - homosexual' 'Cumul. adult AIDS cases - heterosexual'\n",
            " 'Cumulative AIDS cases - children' 'AIDS cases - homosexual/bisexual'\n",
            " 'Cumulative AIDS cases - hemophiliac' 'Pediatric AIDS deaths'\n",
            " 'AIDS cases & death' 'AIDS cases - blood donor' 'AIDS cases - prisoner'\n",
            " 'Pediatric AIDS cases & deaths' 'Cumulative AIDS cases & deaths - blood'\n",
            " 'Cumula. AIDS cases & deaths - blood'\n",
            " 'Cumulative pediatric AIDS cases & deaths'\n",
            " 'Cumula. AIDS cases & deaths - homosexual' 'Pediatric AIDS cases - new'\n",
            " 'AIDS cases - others' 'Pediatric AIDS cases and deaths'\n",
            " 'Cumulative AIDS cases - foreigner' 'AIDS cases and deaths'\n",
            " 'AIDS cases pts.' 'AIDS cases - unknown' 'AIDS cases - sex worker'\n",
            " 'Cumulative AIDS cases - unknown'\n",
            " 'Cumulative AIDS cases - mother-to-infant'\n",
            " 'Cumulative AIDS cases - homo/bisexual'\n",
            " 'Cumulative AIDS cases - mother-to-child'\n",
            " 'Cumulative AIDS cases - bld/bld products'\n",
            " 'Cumulative AIDS cases - drug user' 'Cumulative AIDS cases - multiple'\n",
            " 'Cumulative AIDS cases - sex worker' 'Cumulative AIDS cases - STI'\n",
            " 'Cumulative adult AIDS cases - bisexual'\n",
            " 'Cumulative adult AIDS cases - homosexual'\n",
            " 'Cumula. adult AIDS cases - drug user'\n",
            " 'Cumulative adult AIDS cases - others'\n",
            " 'Cumula. adult AIDS cases - transfusion'\n",
            " 'Cumulative AIDS cases - vertical' 'Cumulative AIDS cases - blood'\n",
            " 'Cumula. adult AIDS cases - homo/bisexual'\n",
            " 'Cumulative adult AIDS cases - IVDU'\n",
            " 'Cumulative AIDS cases - others/unknown'\n",
            " 'Cumul. AIDS cases & deaths - hetersexual']\n"
          ]
        }
      ]
    },
    {
      "cell_type": "code",
      "source": [
        "for c in df:\n",
        "  if len(df[c].unique())==1:\n",
        "    df.drop([c], axis = 1, inplace = True)"
      ],
      "metadata": {
        "id": "IfPpKA5Fwb64"
      },
      "execution_count": 39,
      "outputs": []
    },
    {
      "cell_type": "code",
      "source": [
        "df.columns"
      ],
      "metadata": {
        "colab": {
          "base_uri": "https://localhost:8080/"
        },
        "id": "QLS0xL6fzYzE",
        "outputId": "3f9c6adc-e8d3-43fd-9370-5ac5d497074a"
      },
      "execution_count": 29,
      "outputs": [
        {
          "output_type": "execute_result",
          "data": {
            "text/plain": [
              "Index(['Sequence', 'Country_Code', 'Geographic_Area', 'Reference_Date',\n",
              "       'Population_Subgroup', 'Subpop_Code', 'Sex', 'Age', 'Source_ID',\n",
              "       'Comments', 'Country', 'Site_Name', 'Author', 'Year', 'Title',\n",
              "       'Publication_Information', 'NO_CASES', 'NO_DEATHS', 'Specimen_Type'],\n",
              "      dtype='object')"
            ]
          },
          "metadata": {},
          "execution_count": 29
        }
      ]
    },
    {
      "cell_type": "code",
      "source": [
        "print(len(df['Geographic_Area'].unique()))\n",
        "print(len(df['Site_Name'].unique()))"
      ],
      "metadata": {
        "colab": {
          "base_uri": "https://localhost:8080/"
        },
        "id": "ndj6rkrU6bRz",
        "outputId": "a0030a3b-1600-4b4c-f3d6-f443103cc882"
      },
      "execution_count": 70,
      "outputs": [
        {
          "output_type": "stream",
          "name": "stdout",
          "text": [
            "1004\n",
            "1061\n"
          ]
        }
      ]
    },
    {
      "cell_type": "code",
      "source": [
        "import csv\n",
        "import io\n",
        "import urllib.request\n",
        "\n",
        "output_columns = ['CountryId',\n",
        "                  'HIV_AIDS_Surveillance_Dataset_Source_ID',\n",
        "                  'HIV_AIDS_Surveillance_Dataset_Geographic_Area',\n",
        "                  'HIV_AIDS_Surveillance_Dataset_Reference_Date',\n",
        "                  'HIV_AIDS_Surveillance_Dataset_Population_Subgroup',\n",
        "                  'HIV_AIDS_Surveillance_Dataset_Subpop_Code',\n",
        "                  'HIV_AIDS_Surveillance_Dataset_Sex',\n",
        "                  'HIV_AIDS_Surveillance_Dataset_Age',\n",
        "                  'HIV_AIDS_Surveillance_Dataset_Country',\n",
        "                  #'HIV_AIDS_Surveillance_Dataset_Site_Name',\n",
        "                  'HIV_AIDS_Surveillance_Dataset_Author',\n",
        "                  'HIV_AIDS_Surveillance_Dataset_Year',\n",
        "                  'HIV_AIDS_Surveillance_Dataset_Title',\n",
        "                  'HIV_AIDS_Surveillance_Dataset_Publication_Information',\n",
        "                  'HIV_AIDS_Surveillance_Dataset_NO_CASES',\n",
        "                  'HIV_AIDS_Surveillance_Dataset_NO_DEATHS',\n",
        "                  #'HIV_AIDS_Surveillance_Dataset_Specimen_Type'\n",
        "                 ]\n",
        "with open('HIV_AIDS_Surveillance_Dataset.csv', 'w', newline='') as f_out:\n",
        "  writer = csv.DictWriter(f_out, fieldnames=output_columns, lineterminator='\\n')\n",
        "  with urllib.request.urlopen('https://raw.githubusercontent.com/aruntakhur/PyTorch_NLP_Vision_New/main/HIV_15DEC21_06_23_27_68.csv') as response:\n",
        "    reader = csv.DictReader(io.TextIOWrapper(response))\n",
        "\n",
        "    writer.writeheader()\n",
        "    for row_dict in reader:\n",
        "      processed_dict = {\n",
        "          #'Date': '%s-%s-%s' % (row_dict['date'][:4], row_dict['date'][4:6], row_dict['date'][6:]),\n",
        "                  'CountryId': 'dcid:countryId/%s' % row_dict['Country Code'],\n",
        "                  'HIV_AIDS_Surveillance_Dataset_Source_ID': 'dcid:Source_ID/%s' % row_dict['Source ID'],\n",
        "                  'HIV_AIDS_Surveillance_Dataset_Geographic_Area': row_dict['Geographic Area'],\n",
        "                  'HIV_AIDS_Surveillance_Dataset_Reference_Date': row_dict['Reference Date'],\n",
        "                  'HIV_AIDS_Surveillance_Dataset_Population_Subgroup': row_dict['Population Subgroup'],\n",
        "                  'HIV_AIDS_Surveillance_Dataset_Subpop_Code': 'dcid:Subpop_Code/%s' % row_dict['Subpop Code'],\n",
        "                  'HIV_AIDS_Surveillance_Dataset_Sex': row_dict['Sex'],\n",
        "                  'HIV_AIDS_Surveillance_Dataset_Age': row_dict['Age'],\n",
        "                  'HIV_AIDS_Surveillance_Dataset_Country': row_dict['Country'],\n",
        "                  #'HIV_AIDS_Surveillance_Dataset_Site_Name': row_dict['Site Name'],\n",
        "                  'HIV_AIDS_Surveillance_Dataset_Author': row_dict['Author'],\n",
        "                  'HIV_AIDS_Surveillance_Dataset_Year': row_dict['Year'],\n",
        "                  'HIV_AIDS_Surveillance_Dataset_Title': row_dict['Title'],\n",
        "                  'HIV_AIDS_Surveillance_Dataset_Publication_Information': row_dict['Publication Information'],\n",
        "                  'HIV_AIDS_Surveillance_Dataset_NO_CASES': row_dict['NO_CASES'],\n",
        "                  'HIV_AIDS_Surveillance_Dataset_NO_DEATHS': row_dict['NO_DEATHS'],\n",
        "                  #'HIV_AIDS_Surveillance_Dataset_Specimen_Type': row_dict['Specimen Type'],\n",
        "      }   \n",
        "\n",
        "      writer.writerow(processed_dict)"
      ],
      "metadata": {
        "id": "I9mrDVNHr6fP"
      },
      "execution_count": 76,
      "outputs": []
    },
    {
      "cell_type": "code",
      "source": [
        "# View the result:\n",
        "df_cleaned = pd.read_csv('HIV_AIDS_Surveillance_Dataset.csv')\n",
        "df_cleaned.head()"
      ],
      "metadata": {
        "colab": {
          "base_uri": "https://localhost:8080/",
          "height": 295
        },
        "id": "j8hR_7cgUUEA",
        "outputId": "d6b8ade4-91f4-4ba5-d06d-0b11b5744702"
      },
      "execution_count": 77,
      "outputs": [
        {
          "output_type": "execute_result",
          "data": {
            "text/html": [
              "<div>\n",
              "<style scoped>\n",
              "    .dataframe tbody tr th:only-of-type {\n",
              "        vertical-align: middle;\n",
              "    }\n",
              "\n",
              "    .dataframe tbody tr th {\n",
              "        vertical-align: top;\n",
              "    }\n",
              "\n",
              "    .dataframe thead th {\n",
              "        text-align: right;\n",
              "    }\n",
              "</style>\n",
              "<table border=\"1\" class=\"dataframe\">\n",
              "  <thead>\n",
              "    <tr style=\"text-align: right;\">\n",
              "      <th></th>\n",
              "      <th>CountryId</th>\n",
              "      <th>HIV_AIDS_Surveillance_Dataset_Source_ID</th>\n",
              "      <th>HIV_AIDS_Surveillance_Dataset_Geographic_Area</th>\n",
              "      <th>HIV_AIDS_Surveillance_Dataset_Reference_Date</th>\n",
              "      <th>HIV_AIDS_Surveillance_Dataset_Population_Subgroup</th>\n",
              "      <th>HIV_AIDS_Surveillance_Dataset_Subpop_Code</th>\n",
              "      <th>HIV_AIDS_Surveillance_Dataset_Sex</th>\n",
              "      <th>HIV_AIDS_Surveillance_Dataset_Age</th>\n",
              "      <th>HIV_AIDS_Surveillance_Dataset_Country</th>\n",
              "      <th>HIV_AIDS_Surveillance_Dataset_Author</th>\n",
              "      <th>HIV_AIDS_Surveillance_Dataset_Year</th>\n",
              "      <th>HIV_AIDS_Surveillance_Dataset_Title</th>\n",
              "      <th>HIV_AIDS_Surveillance_Dataset_Publication_Information</th>\n",
              "      <th>HIV_AIDS_Surveillance_Dataset_NO_CASES</th>\n",
              "      <th>HIV_AIDS_Surveillance_Dataset_NO_DEATHS</th>\n",
              "    </tr>\n",
              "  </thead>\n",
              "  <tbody>\n",
              "    <tr>\n",
              "      <th>0</th>\n",
              "      <td>dcid:countryId/ABW</td>\n",
              "      <td>dcid:Source_ID/W0197</td>\n",
              "      <td>National</td>\n",
              "      <td>2002</td>\n",
              "      <td>Cumulative AIDS cases</td>\n",
              "      <td>dcid:Subpop_Code/O</td>\n",
              "      <td>B</td>\n",
              "      <td>ALL</td>\n",
              "      <td>Aruba</td>\n",
              "      <td>World Health Organization</td>\n",
              "      <td>2002</td>\n",
              "      <td>Global Situation of the AIDS Pandemic, End 2002</td>\n",
              "      <td>Weekly Epidemiological Record, December 6, vol...</td>\n",
              "      <td>37</td>\n",
              "      <td>0</td>\n",
              "    </tr>\n",
              "    <tr>\n",
              "      <th>1</th>\n",
              "      <td>dcid:countryId/ABW</td>\n",
              "      <td>dcid:Source_ID/W0144</td>\n",
              "      <td>National</td>\n",
              "      <td>1997</td>\n",
              "      <td>Cumulative AIDS cases</td>\n",
              "      <td>dcid:Subpop_Code/O</td>\n",
              "      <td>B</td>\n",
              "      <td>ALL</td>\n",
              "      <td>Aruba</td>\n",
              "      <td>World Health Organization</td>\n",
              "      <td>1999</td>\n",
              "      <td>UNAIDS/WHO Global AIDS Statistics</td>\n",
              "      <td>AIDS Care, vol. 11, no. 2, pp. 254-264.</td>\n",
              "      <td>24</td>\n",
              "      <td>0</td>\n",
              "    </tr>\n",
              "    <tr>\n",
              "      <th>2</th>\n",
              "      <td>dcid:countryId/ABW</td>\n",
              "      <td>dcid:Source_ID/P0232</td>\n",
              "      <td>National</td>\n",
              "      <td>1996</td>\n",
              "      <td>Cumulative AIDS cases &amp; deaths</td>\n",
              "      <td>dcid:Subpop_Code/O</td>\n",
              "      <td>B</td>\n",
              "      <td>ALL</td>\n",
              "      <td>Aruba</td>\n",
              "      <td>Pan American Health Organization</td>\n",
              "      <td>2000</td>\n",
              "      <td>Update on HIV/AIDS Surveillance in the Americas</td>\n",
              "      <td>Epidemiological Bulletin/PAHO, vol. 21, no. 3,...</td>\n",
              "      <td>37</td>\n",
              "      <td>17</td>\n",
              "    </tr>\n",
              "    <tr>\n",
              "      <th>3</th>\n",
              "      <td>dcid:countryId/ABW</td>\n",
              "      <td>dcid:Source_ID/W0114</td>\n",
              "      <td>National</td>\n",
              "      <td>1996</td>\n",
              "      <td>Cumulative AIDS cases</td>\n",
              "      <td>dcid:Subpop_Code/O</td>\n",
              "      <td>B</td>\n",
              "      <td>ALL</td>\n",
              "      <td>Aruba</td>\n",
              "      <td>World Health Organization</td>\n",
              "      <td>1996</td>\n",
              "      <td>World Health Organization Global AIDS Statistics</td>\n",
              "      <td>AIDS, vol. 8, no. 5, pp. 619-623.</td>\n",
              "      <td>22</td>\n",
              "      <td>0</td>\n",
              "    </tr>\n",
              "    <tr>\n",
              "      <th>4</th>\n",
              "      <td>dcid:countryId/ABW</td>\n",
              "      <td>dcid:Source_ID/P0163</td>\n",
              "      <td>National</td>\n",
              "      <td>1995</td>\n",
              "      <td>Cumulative AIDS cases &amp; deaths</td>\n",
              "      <td>dcid:Subpop_Code/O</td>\n",
              "      <td>B</td>\n",
              "      <td>ALL</td>\n",
              "      <td>Aruba</td>\n",
              "      <td>Pan American Health Organization</td>\n",
              "      <td>1996</td>\n",
              "      <td>Number of Reported Cases of AIDS by Year, and ...</td>\n",
              "      <td>Pan American Health Organization, pp. 1-3.</td>\n",
              "      <td>20</td>\n",
              "      <td>16</td>\n",
              "    </tr>\n",
              "  </tbody>\n",
              "</table>\n",
              "</div>"
            ],
            "text/plain": [
              "            CountryId  ... HIV_AIDS_Surveillance_Dataset_NO_DEATHS\n",
              "0  dcid:countryId/ABW  ...                                       0\n",
              "1  dcid:countryId/ABW  ...                                       0\n",
              "2  dcid:countryId/ABW  ...                                      17\n",
              "3  dcid:countryId/ABW  ...                                       0\n",
              "4  dcid:countryId/ABW  ...                                      16\n",
              "\n",
              "[5 rows x 15 columns]"
            ]
          },
          "metadata": {},
          "execution_count": 77
        }
      ]
    },
    {
      "cell_type": "code",
      "source": [
        "files.download('HIV_AIDS_Surveillance_Dataset.csv')"
      ],
      "metadata": {
        "colab": {
          "base_uri": "https://localhost:8080/",
          "height": 17
        },
        "id": "QXrcmKp4X8U7",
        "outputId": "a8d4b33e-b9df-4534-9e8a-79fdac84b58e"
      },
      "execution_count": 78,
      "outputs": [
        {
          "output_type": "display_data",
          "data": {
            "application/javascript": [
              "\n",
              "    async function download(id, filename, size) {\n",
              "      if (!google.colab.kernel.accessAllowed) {\n",
              "        return;\n",
              "      }\n",
              "      const div = document.createElement('div');\n",
              "      const label = document.createElement('label');\n",
              "      label.textContent = `Downloading \"${filename}\": `;\n",
              "      div.appendChild(label);\n",
              "      const progress = document.createElement('progress');\n",
              "      progress.max = size;\n",
              "      div.appendChild(progress);\n",
              "      document.body.appendChild(div);\n",
              "\n",
              "      const buffers = [];\n",
              "      let downloaded = 0;\n",
              "\n",
              "      const channel = await google.colab.kernel.comms.open(id);\n",
              "      // Send a message to notify the kernel that we're ready.\n",
              "      channel.send({})\n",
              "\n",
              "      for await (const message of channel.messages) {\n",
              "        // Send a message to notify the kernel that we're ready.\n",
              "        channel.send({})\n",
              "        if (message.buffers) {\n",
              "          for (const buffer of message.buffers) {\n",
              "            buffers.push(buffer);\n",
              "            downloaded += buffer.byteLength;\n",
              "            progress.value = downloaded;\n",
              "          }\n",
              "        }\n",
              "      }\n",
              "      const blob = new Blob(buffers, {type: 'application/binary'});\n",
              "      const a = document.createElement('a');\n",
              "      a.href = window.URL.createObjectURL(blob);\n",
              "      a.download = filename;\n",
              "      div.appendChild(a);\n",
              "      a.click();\n",
              "      div.remove();\n",
              "    }\n",
              "  "
            ],
            "text/plain": [
              "<IPython.core.display.Javascript object>"
            ]
          },
          "metadata": {}
        },
        {
          "output_type": "display_data",
          "data": {
            "application/javascript": [
              "download(\"download_237bf27a-6aca-4202-923a-305798488785\", \"HIV_AIDS_Surveillance_Dataset.csv\", 6532505)"
            ],
            "text/plain": [
              "<IPython.core.display.Javascript object>"
            ]
          },
          "metadata": {}
        }
      ]
    },
    {
      "cell_type": "code",
      "source": [
        "df_cleaned.columns"
      ],
      "metadata": {
        "colab": {
          "base_uri": "https://localhost:8080/"
        },
        "id": "ImIdpzXxZzt7",
        "outputId": "d4996deb-4767-4f60-f1dd-4298b5c2c56d"
      },
      "execution_count": 79,
      "outputs": [
        {
          "output_type": "execute_result",
          "data": {
            "text/plain": [
              "Index(['CountryId', 'HIV_AIDS_Surveillance_Dataset_Source_ID',\n",
              "       'HIV_AIDS_Surveillance_Dataset_Geographic_Area',\n",
              "       'HIV_AIDS_Surveillance_Dataset_Reference_Date',\n",
              "       'HIV_AIDS_Surveillance_Dataset_Population_Subgroup',\n",
              "       'HIV_AIDS_Surveillance_Dataset_Subpop_Code',\n",
              "       'HIV_AIDS_Surveillance_Dataset_Sex',\n",
              "       'HIV_AIDS_Surveillance_Dataset_Age',\n",
              "       'HIV_AIDS_Surveillance_Dataset_Country',\n",
              "       'HIV_AIDS_Surveillance_Dataset_Author',\n",
              "       'HIV_AIDS_Surveillance_Dataset_Year',\n",
              "       'HIV_AIDS_Surveillance_Dataset_Title',\n",
              "       'HIV_AIDS_Surveillance_Dataset_Publication_Information',\n",
              "       'HIV_AIDS_Surveillance_Dataset_NO_CASES',\n",
              "       'HIV_AIDS_Surveillance_Dataset_NO_DEATHS'],\n",
              "      dtype='object')"
            ]
          },
          "metadata": {},
          "execution_count": 79
        }
      ]
    },
    {
      "cell_type": "code",
      "source": [
        "# Automate Template MCF generation since there are many Statistical Variables.\n",
        "TEMPLATE_MCF_TEMPLATE = \"\"\"\n",
        "Node: E:HIV_AIDS_Surveillance_Dataset->E{index}\n",
        "typeOf: dcs:StatVarObservation\n",
        "variableMeasured: dcs:{stat_var}\n",
        "measurementMethod: C:HIV_AIDS_Surveillance_Dataset->HIV_AIDS_Surveillance_Dataset_Source_ID\n",
        "observationAbout: C:HIV_AIDS_Surveillance_Dataset->CountryId\n",
        "value: C:HIV_AIDS_Surveillance_Dataset->{stat_var}\n",
        "\"\"\"\n",
        "\n",
        "stat_vars = output_columns[2:]\n",
        "with open('HIV_AIDS_Surveillance_Dataset.tmcf', 'w', newline='') as f_out:\n",
        "  for i in range(len(stat_vars)):\n",
        "    f_out.write(TEMPLATE_MCF_TEMPLATE.format_map({'index': i, 'stat_var': output_columns[2:][i]}))\n",
        "    print(TEMPLATE_MCF_TEMPLATE.format_map({'index': i, 'stat_var': output_columns[2:][i]}))\n",
        "    print('..',output_columns[2:][i])"
      ],
      "metadata": {
        "id": "t3dNJROyaMhR"
      },
      "execution_count": null,
      "outputs": []
    },
    {
      "cell_type": "code",
      "source": [
        "files.download('HIV_AIDS_Surveillance_Dataset.tmcf')"
      ],
      "metadata": {
        "colab": {
          "base_uri": "https://localhost:8080/",
          "height": 17
        },
        "id": "-HxgGdedsnVy",
        "outputId": "76c16dfb-4b09-40a3-f1db-572536161beb"
      },
      "execution_count": 81,
      "outputs": [
        {
          "output_type": "display_data",
          "data": {
            "application/javascript": [
              "\n",
              "    async function download(id, filename, size) {\n",
              "      if (!google.colab.kernel.accessAllowed) {\n",
              "        return;\n",
              "      }\n",
              "      const div = document.createElement('div');\n",
              "      const label = document.createElement('label');\n",
              "      label.textContent = `Downloading \"${filename}\": `;\n",
              "      div.appendChild(label);\n",
              "      const progress = document.createElement('progress');\n",
              "      progress.max = size;\n",
              "      div.appendChild(progress);\n",
              "      document.body.appendChild(div);\n",
              "\n",
              "      const buffers = [];\n",
              "      let downloaded = 0;\n",
              "\n",
              "      const channel = await google.colab.kernel.comms.open(id);\n",
              "      // Send a message to notify the kernel that we're ready.\n",
              "      channel.send({})\n",
              "\n",
              "      for await (const message of channel.messages) {\n",
              "        // Send a message to notify the kernel that we're ready.\n",
              "        channel.send({})\n",
              "        if (message.buffers) {\n",
              "          for (const buffer of message.buffers) {\n",
              "            buffers.push(buffer);\n",
              "            downloaded += buffer.byteLength;\n",
              "            progress.value = downloaded;\n",
              "          }\n",
              "        }\n",
              "      }\n",
              "      const blob = new Blob(buffers, {type: 'application/binary'});\n",
              "      const a = document.createElement('a');\n",
              "      a.href = window.URL.createObjectURL(blob);\n",
              "      a.download = filename;\n",
              "      div.appendChild(a);\n",
              "      a.click();\n",
              "      div.remove();\n",
              "    }\n",
              "  "
            ],
            "text/plain": [
              "<IPython.core.display.Javascript object>"
            ]
          },
          "metadata": {}
        },
        {
          "output_type": "display_data",
          "data": {
            "application/javascript": [
              "download(\"download_db2c639e-4ba9-4c59-b7e7-37bb9af22a4f\", \"HIV_AIDS_Surveillance_Dataset.tmcf\", 4820)"
            ],
            "text/plain": [
              "<IPython.core.display.Javascript object>"
            ]
          },
          "metadata": {}
        }
      ]
    }
  ]
}